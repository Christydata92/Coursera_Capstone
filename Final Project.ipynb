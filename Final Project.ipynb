{
    "nbformat_minor": 1, 
    "cells": [
        {
            "source": "# Capstone Project - The Battle of Neighbourhoods", 
            "cell_type": "markdown", 
            "metadata": {}
        }, 
        {
            "source": "#### Christy Chen", 
            "cell_type": "markdown", 
            "metadata": {}
        }, 
        {
            "source": "#### 2019 Septemeber", 
            "cell_type": "markdown", 
            "metadata": {}
        }, 
        {
            "source": "## 1. Introduction", 
            "cell_type": "markdown", 
            "metadata": {}
        }, 
        {
            "source": "### 1.1 Background", 
            "cell_type": "markdown", 
            "metadata": {}
        }, 
        {
            "source": "Company ABC (the \"Company\") is a China-based Express Delivery Company who started their business about 5 years ago. With the rapid expanding trade between Canada and China, they foresee the potential profitability to open an international branch in Canada. Currently the Express Delivery Market is mainly lead by big corporate (e.g. FedEx, Canada Post, etc.). Considering the high shipping cost for individual or small business orders, the company built a strategy to only focus on China \u2013 Canada delivery and provide a more friendly rate to attract customer with small orders from the market. The company plans to open the first business in Ontario, and then depends on how the P&Ls within next 5 years. The main reason they choose Ontario as for it's being Canada's leading manufacturing province, and also tourism contributes heavily to the economy.", 
            "cell_type": "markdown", 
            "metadata": {}
        }, 
        {
            "source": "### 1.2 Business Problem", 
            "cell_type": "markdown", 
            "metadata": {}
        }, 
        {
            "source": "Currently, the Company had determined to open a new international Express Delivery branch in GTA, Ontario, with main focus on providing products & services to both individual and small business owners, and also thinking offering door-to-door service that will attract customers that would require more assistance.\nThe Company now has two places in mind: Markham or Mississauga. They need to determine which City and where they should open the branch that will allow them to attract more business. The ideal site location should take the following requirement into consideration (if not all, as much as possible): \n\n\na.\tEnough space for truck loading / offloading \n\nb.\tInventory place which is secured and good for temperature-sensitive product\n\nc.\tEasily accessible to transportation options (e.g. near highway)\n\nd.\tIdeal no or minimum competing business nearby\n\ne.\tParking space and public-transit friendly\n\nf.\tNoticeable store front for advertisement\n\ng.\tCost of the rent\n", 
            "cell_type": "markdown", 
            "metadata": {}
        }, 
        {
            "source": "### 1.3 Interest Audience", 
            "cell_type": "markdown", 
            "metadata": {}
        }, 
        {
            "source": "The use of FourSquare API and analysis combined with data analysis will help resolve the key questions arisen. The final result will be presented to the key stakeholders in the company to help them determine whether they will proceed opening a new branch in the recommended area. Further adjustment could lead to next round of deeper analysis based on the feedback received from the board.", 
            "cell_type": "markdown", 
            "metadata": {}
        }, 
        {
            "source": "## 2. Data Preparation", 
            "cell_type": "markdown", 
            "metadata": {}
        }, 
        {
            "source": "To start performing the analysis, following data has been loaded:", 
            "cell_type": "markdown", 
            "metadata": {}
        }, 
        {
            "source": "### 2.1 CENSUS data for both Markham & Mississauga (2016)", 
            "cell_type": "markdown", 
            "metadata": {}
        }, 
        {
            "source": "A national census in Canada is conducted every five years by Statistics Canada, which provides demographic and statistical data to plan public services including health care, education, and transportation, determine federal transfer payments. Two csv files has been created for Markham and Mississauga 2016 CENSUS result, which will be read in order to create a dataframe. The csv file 'CENSUS_Markham.csv' and 'CENSUS_Mississauga.csv' has the following below data structure. The file will be directly read to the Jupiter Notebook for convenience and space savings.", 
            "cell_type": "markdown", 
            "metadata": {}
        }, 
        {
            "source": "#### 2.1.1 CENSUS_Markham.csv\nThe data is publicly accessible via: https://www12.statcan.gc.ca/census-recensement/2016/dp-pd/prof/details/page.cfm?Lang=E&Geo1=CSD&Code1=3519036&Geo2=PR&Code2=35&SearchText=Markham&SearchType=Begins&SearchPR=01&B1=All&GeoLevel=PR&GeoCode=3519036&TABID=1&type=0", 
            "cell_type": "markdown", 
            "metadata": {}
        }, 
        {
            "execution_count": 19, 
            "cell_type": "code", 
            "metadata": {}, 
            "outputs": [
                {
                    "execution_count": 19, 
                    "metadata": {}, 
                    "data": {
                        "text/html": "<div>\n<style scoped>\n    .dataframe tbody tr th:only-of-type {\n        vertical-align: middle;\n    }\n\n    .dataframe tbody tr th {\n        vertical-align: top;\n    }\n\n    .dataframe thead th {\n        text-align: right;\n    }\n</style>\n<table border=\"1\" class=\"dataframe\">\n  <thead>\n    <tr style=\"text-align: right;\">\n      <th></th>\n      <th>Category</th>\n      <th>Sub_Category</th>\n      <th>Total</th>\n      <th>Male</th>\n      <th>Female</th>\n    </tr>\n  </thead>\n  <tbody>\n    <tr>\n      <th>0</th>\n      <td>Age characteristics</td>\n      <td>0 to 4 years</td>\n      <td>17085</td>\n      <td>8715.0</td>\n      <td>8370.0</td>\n    </tr>\n    <tr>\n      <th>1</th>\n      <td>Age characteristics</td>\n      <td>5 to 9 years</td>\n      <td>19085</td>\n      <td>9905.0</td>\n      <td>9180.0</td>\n    </tr>\n    <tr>\n      <th>2</th>\n      <td>Age characteristics</td>\n      <td>10 to 14 years</td>\n      <td>19220</td>\n      <td>9950.0</td>\n      <td>9270.0</td>\n    </tr>\n    <tr>\n      <th>3</th>\n      <td>Age characteristics</td>\n      <td>15 to 19 years</td>\n      <td>21095</td>\n      <td>10910.0</td>\n      <td>10185.0</td>\n    </tr>\n    <tr>\n      <th>4</th>\n      <td>Age characteristics</td>\n      <td>20 to 24 years</td>\n      <td>21455</td>\n      <td>11225.0</td>\n      <td>10230.0</td>\n    </tr>\n  </tbody>\n</table>\n</div>", 
                        "text/plain": "              Category    Sub_Category  Total     Male   Female\n0  Age characteristics    0 to 4 years  17085   8715.0   8370.0\n1  Age characteristics    5 to 9 years  19085   9905.0   9180.0\n2  Age characteristics  10 to 14 years  19220   9950.0   9270.0\n3  Age characteristics  15 to 19 years  21095  10910.0  10185.0\n4  Age characteristics  20 to 24 years  21455  11225.0  10230.0"
                    }, 
                    "output_type": "execute_result"
                }
            ], 
            "source": "# The code was removed by Watson Studio for sharing."
        }, 
        {
            "source": "#### 2.1.2 CENSUS_Mississauga.csv\nThe data is publicly accessible via: https://www12.statcan.gc.ca/census-recensement/2016/dp-pd/prof/details/page.cfm?Lang=E&Geo1=CSD&Code1=3521005&Geo2=PR&Code2=35&Data=Count&SearchText=Mississauga&SearchType=Begins&SearchPR=01&TABID=1&B1=All", 
            "cell_type": "markdown", 
            "metadata": {}
        }, 
        {
            "execution_count": 2, 
            "cell_type": "code", 
            "metadata": {}, 
            "outputs": [
                {
                    "execution_count": 2, 
                    "metadata": {}, 
                    "data": {
                        "text/html": "<div>\n<style scoped>\n    .dataframe tbody tr th:only-of-type {\n        vertical-align: middle;\n    }\n\n    .dataframe tbody tr th {\n        vertical-align: top;\n    }\n\n    .dataframe thead th {\n        text-align: right;\n    }\n</style>\n<table border=\"1\" class=\"dataframe\">\n  <thead>\n    <tr style=\"text-align: right;\">\n      <th></th>\n      <th>Category</th>\n      <th>Sub_Category</th>\n      <th>Total</th>\n      <th>Male</th>\n      <th>Female</th>\n    </tr>\n  </thead>\n  <tbody>\n    <tr>\n      <th>0</th>\n      <td>Age characteristics</td>\n      <td>0 to 4 years</td>\n      <td>35460</td>\n      <td>17880.0</td>\n      <td>17585.0</td>\n    </tr>\n    <tr>\n      <th>1</th>\n      <td>Age characteristics</td>\n      <td>5 to 9 years</td>\n      <td>41485</td>\n      <td>21220.0</td>\n      <td>20270.0</td>\n    </tr>\n    <tr>\n      <th>2</th>\n      <td>Age characteristics</td>\n      <td>10 to 14 years</td>\n      <td>43980</td>\n      <td>22805.0</td>\n      <td>21180.0</td>\n    </tr>\n    <tr>\n      <th>3</th>\n      <td>Age characteristics</td>\n      <td>15 to 19 years</td>\n      <td>49205</td>\n      <td>25670.0</td>\n      <td>23535.0</td>\n    </tr>\n    <tr>\n      <th>4</th>\n      <td>Age characteristics</td>\n      <td>20 to 24 years</td>\n      <td>53645</td>\n      <td>27795.0</td>\n      <td>25850.0</td>\n    </tr>\n  </tbody>\n</table>\n</div>", 
                        "text/plain": "              Category    Sub_Category  Total     Male   Female\n0  Age characteristics    0 to 4 years  35460  17880.0  17585.0\n1  Age characteristics    5 to 9 years  41485  21220.0  20270.0\n2  Age characteristics  10 to 14 years  43980  22805.0  21180.0\n3  Age characteristics  15 to 19 years  49205  25670.0  23535.0\n4  Age characteristics  20 to 24 years  53645  27795.0  25850.0"
                    }, 
                    "output_type": "execute_result"
                }
            ], 
            "source": "body = client_a2a9f78cf9c84387af515fb9bfedbee0.get_object(Bucket='capstoneproject-donotdelete-pr-k5ambwispq6wtu',Key='CENSUS_Mississauga.csv')['Body']\n# add missing __iter__ method, so pandas accepts body as file-like object\nif not hasattr(body, \"__iter__\"): body.__iter__ = types.MethodType( __iter__, body )\n\ndf_miss = pd.read_csv(body)\ndf_miss.head()\n"
        }, 
        {
            "source": "### 2.2 Crime data for both Markham & Mississauga (2017)", 
            "cell_type": "markdown", 
            "metadata": {}
        }, 
        {
            "source": "I will use 2017 data to compare between Markham and Mississauga due to the data accessibility limitation. Two csv files has been created which will be read in order to create a dataframe. The csv file 'Crime_Markham.csv' and 'Crime_Mississauga.csv' has the following below data structure. The file will be directly read to the Jupiter Notebook for convenience and space savings.", 
            "cell_type": "markdown", 
            "metadata": {}
        }, 
        {
            "source": "#### 2.2.1 Crime_Markham.csv\nThe data is publicly accessible via: https://www.yrp.ca/en/about/statistical-reports.asp. For this analysis, I am using the \"Markham\" session in 2018 York Regional Police Statistical Report.", 
            "cell_type": "markdown", 
            "metadata": {}
        }, 
        {
            "execution_count": 3, 
            "cell_type": "code", 
            "metadata": {}, 
            "outputs": [
                {
                    "execution_count": 3, 
                    "metadata": {}, 
                    "data": {
                        "text/html": "<div>\n<style scoped>\n    .dataframe tbody tr th:only-of-type {\n        vertical-align: middle;\n    }\n\n    .dataframe tbody tr th {\n        vertical-align: top;\n    }\n\n    .dataframe thead th {\n        text-align: right;\n    }\n</style>\n<table border=\"1\" class=\"dataframe\">\n  <thead>\n    <tr style=\"text-align: right;\">\n      <th></th>\n      <th>Category</th>\n      <th>2017Actual</th>\n      <th>2017Percent Cleared</th>\n      <th>2017Rate Per\n100,000\nPopulation</th>\n      <th>2018Actual</th>\n      <th>2018Percent Cleared</th>\n      <th>2018Rate Per\n100,000\nPopulation</th>\n    </tr>\n  </thead>\n  <tbody>\n    <tr>\n      <th>0</th>\n      <td>Crimes Against Persons</td>\n      <td>1,598</td>\n      <td>76.4</td>\n      <td>447.97</td>\n      <td>1,831</td>\n      <td>72.6</td>\n      <td>525.07</td>\n    </tr>\n    <tr>\n      <th>1</th>\n      <td>Violations Causing Death</td>\n      <td>1</td>\n      <td>200.0</td>\n      <td>0.28</td>\n      <td>2</td>\n      <td>50.0</td>\n      <td>0.57</td>\n    </tr>\n    <tr>\n      <th>2</th>\n      <td>Attempt Capital Crime</td>\n      <td>4</td>\n      <td>75.0</td>\n      <td>1.12</td>\n      <td>3</td>\n      <td>100.0</td>\n      <td>0.86</td>\n    </tr>\n    <tr>\n      <th>3</th>\n      <td>Sexual Violations</td>\n      <td>136</td>\n      <td>68.4</td>\n      <td>38.13</td>\n      <td>155</td>\n      <td>68.4</td>\n      <td>44.45</td>\n    </tr>\n    <tr>\n      <th>4</th>\n      <td>Commodification of Sexual Activity</td>\n      <td>33</td>\n      <td>90.9</td>\n      <td>9.25</td>\n      <td>15</td>\n      <td>86.7</td>\n      <td>4.30</td>\n    </tr>\n  </tbody>\n</table>\n</div>", 
                        "text/plain": "                             Category 2017Actual 2017Percent Cleared  \\\n0              Crimes Against Persons      1,598                76.4   \n1            Violations Causing Death          1               200.0   \n2               Attempt Capital Crime          4                75.0   \n3                   Sexual Violations        136                68.4   \n4  Commodification of Sexual Activity         33                90.9   \n\n  2017Rate Per\\n100,000\\nPopulation 2018Actual 2018Percent Cleared  \\\n0                            447.97      1,831                72.6   \n1                              0.28          2                50.0   \n2                              1.12          3               100.0   \n3                             38.13        155                68.4   \n4                              9.25         15                86.7   \n\n  2018Rate Per\\n100,000\\nPopulation  \n0                            525.07  \n1                              0.57  \n2                              0.86  \n3                             44.45  \n4                              4.30  "
                    }, 
                    "output_type": "execute_result"
                }
            ], 
            "source": "\nbody = client_a2a9f78cf9c84387af515fb9bfedbee0.get_object(Bucket='capstoneproject-donotdelete-pr-k5ambwispq6wtu',Key='Crime_Markham.csv')['Body']\n# add missing __iter__ method, so pandas accepts body as file-like object\nif not hasattr(body, \"__iter__\"): body.__iter__ = types.MethodType( __iter__, body )\n\ndf_data_2 = pd.read_csv(body)\ndf_data_2.head()\n"
        }, 
        {
            "source": "#### 2.2.2 Crime_Mississauga.csv\nThe data is publicly accessible via: http://safecitymississauga.on.ca/wp-content/uploads/2019/02/2017-Safest-City-Report-1.pdf", 
            "cell_type": "markdown", 
            "metadata": {}
        }, 
        {
            "execution_count": 4, 
            "cell_type": "code", 
            "metadata": {}, 
            "outputs": [
                {
                    "execution_count": 4, 
                    "metadata": {}, 
                    "data": {
                        "text/html": "<div>\n<style scoped>\n    .dataframe tbody tr th:only-of-type {\n        vertical-align: middle;\n    }\n\n    .dataframe tbody tr th {\n        vertical-align: top;\n    }\n\n    .dataframe thead th {\n        text-align: right;\n    }\n</style>\n<table border=\"1\" class=\"dataframe\">\n  <thead>\n    <tr style=\"text-align: right;\">\n      <th></th>\n      <th>Category</th>\n      <th>2016Number</th>\n      <th>2016Percent Solved</th>\n      <th>2016Rate per 100,000</th>\n      <th>2017Number</th>\n      <th>2017Percent Solved</th>\n      <th>2017Rate per 100,000</th>\n    </tr>\n  </thead>\n  <tbody>\n    <tr>\n      <th>0</th>\n      <td>Crimes Against Persons</td>\n      <td>3524</td>\n      <td>0.759</td>\n      <td>466.1</td>\n      <td>3876</td>\n      <td>0.727</td>\n      <td>511.3</td>\n    </tr>\n    <tr>\n      <th>1</th>\n      <td>Homicide</td>\n      <td>6</td>\n      <td>0.500</td>\n      <td>0.8</td>\n      <td>9</td>\n      <td>1.000</td>\n      <td>1.2</td>\n    </tr>\n    <tr>\n      <th>2</th>\n      <td>Attempt Murder</td>\n      <td>15</td>\n      <td>0.467</td>\n      <td>2.0</td>\n      <td>9</td>\n      <td>0.667</td>\n      <td>1.2</td>\n    </tr>\n    <tr>\n      <th>3</th>\n      <td>Robbery - Total</td>\n      <td>423</td>\n      <td>0.414</td>\n      <td>56.0</td>\n      <td>480</td>\n      <td>0.381</td>\n      <td>63.3</td>\n    </tr>\n    <tr>\n      <th>4</th>\n      <td>Robbery - With Weapons</td>\n      <td>246</td>\n      <td>0.407</td>\n      <td>32.5</td>\n      <td>261</td>\n      <td>0.356</td>\n      <td>34.4</td>\n    </tr>\n  </tbody>\n</table>\n</div>", 
                        "text/plain": "                 Category 2016Number  2016Percent Solved  \\\n0  Crimes Against Persons       3524               0.759   \n1                Homicide          6               0.500   \n2          Attempt Murder         15               0.467   \n3         Robbery - Total        423               0.414   \n4  Robbery - With Weapons        246               0.407   \n\n   2016Rate per 100,000  2017Number  2017Percent Solved  2017Rate per 100,000  \n0                 466.1        3876               0.727                 511.3  \n1                   0.8           9               1.000                   1.2  \n2                   2.0           9               0.667                   1.2  \n3                  56.0         480               0.381                  63.3  \n4                  32.5         261               0.356                  34.4  "
                    }, 
                    "output_type": "execute_result"
                }
            ], 
            "source": "body = client_a2a9f78cf9c84387af515fb9bfedbee0.get_object(Bucket='capstoneproject-donotdelete-pr-k5ambwispq6wtu',Key='Crime_Mississauga.csv')['Body']\n# add missing __iter__ method, so pandas accepts body as file-like object\nif not hasattr(body, \"__iter__\"): body.__iter__ = types.MethodType( __iter__, body )\n\ncrime_markham = pd.read_csv(body)\ncrime_markham.head()"
        }, 
        {
            "source": "### 2.3 Geographical information", 
            "cell_type": "markdown", 
            "metadata": {}
        }, 
        {
            "execution_count": 5, 
            "cell_type": "code", 
            "metadata": {}, 
            "outputs": [
                {
                    "output_type": "stream", 
                    "name": "stdout", 
                    "text": "Solving environment: done\n\n## Package Plan ##\n\n  environment location: /opt/conda/envs/Python36\n\n  added / updated specs: \n    - geopy\n\n\nThe following packages will be downloaded:\n\n    package                    |            build\n    ---------------------------|-----------------\n    certifi-2019.9.11          |           py36_0         147 KB  conda-forge\n    ca-certificates-2019.9.11  |       hecc5488_0         144 KB  conda-forge\n    geopy-1.20.0               |             py_0          57 KB  conda-forge\n    openssl-1.1.1c             |       h516909a_0         2.1 MB  conda-forge\n    geographiclib-1.49         |             py_0          32 KB  conda-forge\n    ------------------------------------------------------------\n                                           Total:         2.5 MB\n\nThe following NEW packages will be INSTALLED:\n\n    geographiclib:   1.49-py_0         conda-forge\n    geopy:           1.20.0-py_0       conda-forge\n\nThe following packages will be UPDATED:\n\n    ca-certificates: 2019.5.15-1                   --> 2019.9.11-hecc5488_0 conda-forge\n    certifi:         2019.6.16-py36_1              --> 2019.9.11-py36_0     conda-forge\n\nThe following packages will be DOWNGRADED:\n\n    openssl:         1.1.1c-h7b6447c_1             --> 1.1.1c-h516909a_0    conda-forge\n\n\nDownloading and Extracting Packages\ncertifi-2019.9.11    | 147 KB    | ##################################### | 100% \nca-certificates-2019 | 144 KB    | ##################################### | 100% \ngeopy-1.20.0         | 57 KB     | ##################################### | 100% \nopenssl-1.1.1c       | 2.1 MB    | ##################################### | 100% \ngeographiclib-1.49   | 32 KB     | ##################################### | 100% \nPreparing transaction: done\nVerifying transaction: done\nExecuting transaction: done\nCollecting folium\n\u001b[?25l  Downloading https://files.pythonhosted.org/packages/72/ff/004bfe344150a064e558cb2aedeaa02ecbf75e60e148a55a9198f0c41765/folium-0.10.0-py2.py3-none-any.whl (91kB)\n\u001b[K     |\u2588\u2588\u2588\u2588\u2588\u2588\u2588\u2588\u2588\u2588\u2588\u2588\u2588\u2588\u2588\u2588\u2588\u2588\u2588\u2588\u2588\u2588\u2588\u2588\u2588\u2588\u2588\u2588\u2588\u2588\u2588\u2588| 92kB 2.2MB/s eta 0:00:01\n\u001b[?25hRequirement already satisfied: numpy in /opt/conda/envs/Python36/lib/python3.6/site-packages (from folium) (1.15.4)\nCollecting branca>=0.3.0 (from folium)\n  Downloading https://files.pythonhosted.org/packages/63/36/1c93318e9653f4e414a2e0c3b98fc898b4970e939afeedeee6075dd3b703/branca-0.3.1-py3-none-any.whl\nRequirement already satisfied: jinja2>=2.9 in /opt/conda/envs/Python36/lib/python3.6/site-packages (from folium) (2.10)\nRequirement already satisfied: requests in /opt/conda/envs/Python36/lib/python3.6/site-packages (from folium) (2.21.0)\nRequirement already satisfied: six in /opt/conda/envs/Python36/lib/python3.6/site-packages (from branca>=0.3.0->folium) (1.12.0)\nRequirement already satisfied: MarkupSafe>=0.23 in /opt/conda/envs/Python36/lib/python3.6/site-packages (from jinja2>=2.9->folium) (1.1.0)\nRequirement already satisfied: idna<2.9,>=2.5 in /opt/conda/envs/Python36/lib/python3.6/site-packages (from requests->folium) (2.8)\nRequirement already satisfied: chardet<3.1.0,>=3.0.2 in /opt/conda/envs/Python36/lib/python3.6/site-packages (from requests->folium) (3.0.4)\nRequirement already satisfied: certifi>=2017.4.17 in /opt/conda/envs/Python36/lib/python3.6/site-packages (from requests->folium) (2019.9.11)\nRequirement already satisfied: urllib3<1.25,>=1.21.1 in /opt/conda/envs/Python36/lib/python3.6/site-packages (from requests->folium) (1.24.1)\nInstalling collected packages: branca, folium\nSuccessfully installed branca-0.3.1 folium-0.10.0\nFolium installed\nLibraries imported.\n"
                }
            ], 
            "source": "import requests # library to handle requests\nimport pandas as pd # library for data analsysis\nimport numpy as np # library to handle data in a vectorized manner\nimport random # library for random number generation\n\n!conda install -c conda-forge geopy --yes \nfrom geopy.geocoders import Nominatim # module to convert an address into latitude and longitude values\n\n# tranforming json file into a pandas dataframe library\nfrom pandas.io.json import json_normalize\n\n!pip install folium\nimport folium # plotting library\n\nprint('Folium installed')\nprint('Libraries imported.')"
        }, 
        {
            "execution_count": 6, 
            "cell_type": "code", 
            "metadata": {}, 
            "outputs": [
                {
                    "output_type": "stream", 
                    "name": "stdout", 
                    "text": "43.854336 -79.326782\n"
                }, 
                {
                    "output_type": "stream", 
                    "name": "stderr", 
                    "text": "/opt/conda/envs/Python36/lib/python3.6/site-packages/ipykernel/__main__.py:3: DeprecationWarning: Using Nominatim with the default \"geopy/1.20.0\" `user_agent` is strongly discouraged, as it violates Nominatim's ToS https://operations.osmfoundation.org/policies/nominatim/ and may possibly cause 403 and 429 HTTP errors. Please specify a custom `user_agent` with `Nominatim(user_agent=\"my-application\")` or by overriding the default `user_agent`: `geopy.geocoders.options.default_user_agent = \"my-application\"`. In geopy 2.0 this will become an exception.\n  app.launch_new_instance()\n"
                }
            ], 
            "source": "address = 'Markham, Ontario'\n\ngeolocator_markham = Nominatim()\nlocation_markham = geolocator_markham.geocode(address)\nlatitude_markham = location_markham.latitude\nlongitude_markham = location_markham.longitude\nprint(latitude_markham,longitude_markham)"
        }, 
        {
            "execution_count": 7, 
            "cell_type": "code", 
            "metadata": {}, 
            "outputs": [
                {
                    "output_type": "stream", 
                    "name": "stderr", 
                    "text": "/opt/conda/envs/Python36/lib/python3.6/site-packages/ipykernel/__main__.py:3: DeprecationWarning: Using Nominatim with the default \"geopy/1.20.0\" `user_agent` is strongly discouraged, as it violates Nominatim's ToS https://operations.osmfoundation.org/policies/nominatim/ and may possibly cause 403 and 429 HTTP errors. Please specify a custom `user_agent` with `Nominatim(user_agent=\"my-application\")` or by overriding the default `user_agent`: `geopy.geocoders.options.default_user_agent = \"my-application\"`. In geopy 2.0 this will become an exception.\n  app.launch_new_instance()\n"
                }, 
                {
                    "output_type": "stream", 
                    "name": "stdout", 
                    "text": "43.590338 -79.645729\n"
                }
            ], 
            "source": "address = 'Mississauga, Ontario'\n\ngeolocator_mississauga = Nominatim()\nlocation_mississauga = geolocator_mississauga.geocode(address)\nlatitude_mississauga = location_mississauga.latitude\nlongitude_mississauga = location_mississauga.longitude\nprint(latitude_mississauga,longitude_mississauga)"
        }, 
        {
            "source": "### 2.4 Neibourghbood information", 
            "cell_type": "markdown", 
            "metadata": {}
        }, 
        {
            "execution_count": 8, 
            "cell_type": "code", 
            "metadata": {}, 
            "outputs": [
                {
                    "output_type": "stream", 
                    "name": "stdout", 
                    "text": "Requirement already satisfied: geocoder in /opt/conda/envs/Python36/lib/python3.6/site-packages (1.38.1)\nRequirement already satisfied: ratelim in /opt/conda/envs/Python36/lib/python3.6/site-packages (from geocoder) (0.1.6)\nRequirement already satisfied: click in /opt/conda/envs/Python36/lib/python3.6/site-packages (from geocoder) (7.0)\nRequirement already satisfied: requests in /opt/conda/envs/Python36/lib/python3.6/site-packages (from geocoder) (2.21.0)\nRequirement already satisfied: six in /opt/conda/envs/Python36/lib/python3.6/site-packages (from geocoder) (1.12.0)\nRequirement already satisfied: future in /opt/conda/envs/Python36/lib/python3.6/site-packages (from geocoder) (0.17.1)\nRequirement already satisfied: decorator in /opt/conda/envs/Python36/lib/python3.6/site-packages (from ratelim->geocoder) (4.3.2)\nRequirement already satisfied: idna<2.9,>=2.5 in /opt/conda/envs/Python36/lib/python3.6/site-packages (from requests->geocoder) (2.8)\nRequirement already satisfied: chardet<3.1.0,>=3.0.2 in /opt/conda/envs/Python36/lib/python3.6/site-packages (from requests->geocoder) (3.0.4)\nRequirement already satisfied: certifi>=2017.4.17 in /opt/conda/envs/Python36/lib/python3.6/site-packages (from requests->geocoder) (2019.9.11)\nRequirement already satisfied: urllib3<1.25,>=1.21.1 in /opt/conda/envs/Python36/lib/python3.6/site-packages (from requests->geocoder) (1.24.1)\n"
                }
            ], 
            "source": "!pip install geocoder\n\nimport numpy as np\nimport pandas as pd\nimport geocoder"
        }, 
        {
            "execution_count": 9, 
            "cell_type": "code", 
            "metadata": {}, 
            "outputs": [
                {
                    "execution_count": 9, 
                    "metadata": {}, 
                    "data": {
                        "text/html": "<div>\n<style scoped>\n    .dataframe tbody tr th:only-of-type {\n        vertical-align: middle;\n    }\n\n    .dataframe tbody tr th {\n        vertical-align: top;\n    }\n\n    .dataframe thead th {\n        text-align: right;\n    }\n</style>\n<table border=\"1\" class=\"dataframe\">\n  <thead>\n    <tr style=\"text-align: right;\">\n      <th></th>\n      <th>Postalcode</th>\n      <th>Borough</th>\n      <th>Neighbourhood</th>\n    </tr>\n  </thead>\n  <tbody>\n    <tr>\n      <th>0</th>\n      <td>L6C</td>\n      <td>Markham</td>\n      <td>Berczy Village, Cachet, Angus Glen</td>\n    </tr>\n    <tr>\n      <th>1</th>\n      <td>L3S</td>\n      <td>Markham</td>\n      <td>Markham Southeast</td>\n    </tr>\n    <tr>\n      <th>2</th>\n      <td>L3R</td>\n      <td>Markham</td>\n      <td>Outer Southwest</td>\n    </tr>\n    <tr>\n      <th>3</th>\n      <td>L3P</td>\n      <td>Markham</td>\n      <td>Central</td>\n    </tr>\n    <tr>\n      <th>4</th>\n      <td>L6G</td>\n      <td>Markham</td>\n      <td>Downtown Markham, Markham Centre</td>\n    </tr>\n  </tbody>\n</table>\n</div>", 
                        "text/plain": "  Postalcode  Borough                       Neighbourhood\n0        L6C  Markham  Berczy Village, Cachet, Angus Glen\n1        L3S  Markham                   Markham Southeast\n2        L3R  Markham                     Outer Southwest\n3        L3P  Markham                            Central \n4        L6G  Markham    Downtown Markham, Markham Centre"
                    }, 
                    "output_type": "execute_result"
                }
            ], 
            "source": "body = client_a2a9f78cf9c84387af515fb9bfedbee0.get_object(Bucket='capstoneproject-donotdelete-pr-k5ambwispq6wtu',Key='PostalCode_Markham.csv')['Body']\n# add missing __iter__ method, so pandas accepts body as file-like object\nif not hasattr(body, \"__iter__\"): body.__iter__ = types.MethodType( __iter__, body )\n\npc_markham = pd.read_csv(body)\npc_markham.head()\n"
        }, 
        {
            "execution_count": 10, 
            "cell_type": "code", 
            "metadata": {}, 
            "outputs": [], 
            "source": "def get_latlng1(postal_code):\n    \n    lat_lng_coords = None\n\n    while(lat_lng_coords is None):\n\n        lat_lng_coords = geocoder.arcgis('{}, Markham, Ontario'.format(postal_code)).latlng\n    return lat_lng_coords"
        }, 
        {
            "execution_count": 11, 
            "cell_type": "code", 
            "metadata": {}, 
            "outputs": [], 
            "source": "postal_codes = pc_markham['Postalcode']    \ncoords = [get_latlng1(postal_code) for postal_code in postal_codes.tolist() ]"
        }, 
        {
            "execution_count": 12, 
            "cell_type": "code", 
            "metadata": {}, 
            "outputs": [], 
            "source": "df1 = pd.DataFrame(coords, columns=['Latitude', 'Longitude'])\npc_markham['Latitude'] = df1['Latitude']\npc_markham['Longitude'] = df1['Longitude']"
        }, 
        {
            "execution_count": 13, 
            "cell_type": "code", 
            "metadata": {}, 
            "outputs": [
                {
                    "execution_count": 13, 
                    "metadata": {}, 
                    "data": {
                        "text/html": "<div>\n<style scoped>\n    .dataframe tbody tr th:only-of-type {\n        vertical-align: middle;\n    }\n\n    .dataframe tbody tr th {\n        vertical-align: top;\n    }\n\n    .dataframe thead th {\n        text-align: right;\n    }\n</style>\n<table border=\"1\" class=\"dataframe\">\n  <thead>\n    <tr style=\"text-align: right;\">\n      <th></th>\n      <th>Postalcode</th>\n      <th>Borough</th>\n      <th>Neighbourhood</th>\n      <th>Latitude</th>\n      <th>Longitude</th>\n    </tr>\n  </thead>\n  <tbody>\n    <tr>\n      <th>0</th>\n      <td>L6C</td>\n      <td>Markham</td>\n      <td>Berczy Village, Cachet, Angus Glen</td>\n      <td>43.904525</td>\n      <td>-79.339338</td>\n    </tr>\n    <tr>\n      <th>1</th>\n      <td>L3S</td>\n      <td>Markham</td>\n      <td>Markham Southeast</td>\n      <td>43.849285</td>\n      <td>-79.269179</td>\n    </tr>\n    <tr>\n      <th>2</th>\n      <td>L3R</td>\n      <td>Markham</td>\n      <td>Outer Southwest</td>\n      <td>43.831860</td>\n      <td>-79.328545</td>\n    </tr>\n    <tr>\n      <th>3</th>\n      <td>L3P</td>\n      <td>Markham</td>\n      <td>Central</td>\n      <td>43.929105</td>\n      <td>-79.273375</td>\n    </tr>\n    <tr>\n      <th>4</th>\n      <td>L6G</td>\n      <td>Markham</td>\n      <td>Downtown Markham, Markham Centre</td>\n      <td>43.848375</td>\n      <td>-79.334748</td>\n    </tr>\n    <tr>\n      <th>5</th>\n      <td>L6E</td>\n      <td>Markham</td>\n      <td>Wismer Commons</td>\n      <td>43.900415</td>\n      <td>-79.266374</td>\n    </tr>\n  </tbody>\n</table>\n</div>", 
                        "text/plain": "  Postalcode  Borough                       Neighbourhood   Latitude  \\\n0        L6C  Markham  Berczy Village, Cachet, Angus Glen  43.904525   \n1        L3S  Markham                   Markham Southeast  43.849285   \n2        L3R  Markham                     Outer Southwest  43.831860   \n3        L3P  Markham                            Central   43.929105   \n4        L6G  Markham    Downtown Markham, Markham Centre  43.848375   \n5        L6E  Markham                      Wismer Commons  43.900415   \n\n   Longitude  \n0 -79.339338  \n1 -79.269179  \n2 -79.328545  \n3 -79.273375  \n4 -79.334748  \n5 -79.266374  "
                    }, 
                    "output_type": "execute_result"
                }
            ], 
            "source": "pc_markham"
        }, 
        {
            "execution_count": 14, 
            "cell_type": "code", 
            "metadata": {}, 
            "outputs": [
                {
                    "execution_count": 14, 
                    "metadata": {}, 
                    "data": {
                        "text/html": "<div>\n<style scoped>\n    .dataframe tbody tr th:only-of-type {\n        vertical-align: middle;\n    }\n\n    .dataframe tbody tr th {\n        vertical-align: top;\n    }\n\n    .dataframe thead th {\n        text-align: right;\n    }\n</style>\n<table border=\"1\" class=\"dataframe\">\n  <thead>\n    <tr style=\"text-align: right;\">\n      <th></th>\n      <th>Postalcode</th>\n      <th>Borough</th>\n      <th>Neighbourhood</th>\n    </tr>\n  </thead>\n  <tbody>\n    <tr>\n      <th>0</th>\n      <td>L5A</td>\n      <td>Mississauga</td>\n      <td>Mississauga Valley, East Cooksville</td>\n    </tr>\n    <tr>\n      <th>1</th>\n      <td>L5B</td>\n      <td>Mississauga</td>\n      <td>WestCooksville, Fairview,\u00a0City Centre, EastCre...</td>\n    </tr>\n    <tr>\n      <th>2</th>\n      <td>L5C</td>\n      <td>Mississauga</td>\n      <td>WestCreditview, Mavis, Erindale</td>\n    </tr>\n    <tr>\n      <th>3</th>\n      <td>L5E</td>\n      <td>Mississauga</td>\n      <td>Central Lakeview</td>\n    </tr>\n    <tr>\n      <th>4</th>\n      <td>L5G</td>\n      <td>Mississauga</td>\n      <td>SWLakeview, Mineola, EastPort Credit</td>\n    </tr>\n  </tbody>\n</table>\n</div>", 
                        "text/plain": "  Postalcode      Borough                                      Neighbourhood\n0        L5A  Mississauga                Mississauga Valley, East Cooksville\n1        L5B  Mississauga  WestCooksville, Fairview,\u00a0City Centre, EastCre...\n2        L5C  Mississauga                    WestCreditview, Mavis, Erindale\n3        L5E  Mississauga                                   Central Lakeview\n4        L5G  Mississauga               SWLakeview, Mineola, EastPort Credit"
                    }, 
                    "output_type": "execute_result"
                }
            ], 
            "source": "body = client_a2a9f78cf9c84387af515fb9bfedbee0.get_object(Bucket='capstoneproject-donotdelete-pr-k5ambwispq6wtu',Key='PostalCode_Mississauga.csv')['Body']\n# add missing __iter__ method, so pandas accepts body as file-like object\nif not hasattr(body, \"__iter__\"): body.__iter__ = types.MethodType( __iter__, body )\n\npc_mississauga = pd.read_csv(body)\npc_mississauga.head()\n"
        }, 
        {
            "execution_count": 15, 
            "cell_type": "code", 
            "metadata": {}, 
            "outputs": [], 
            "source": "def get_latlng2(postal_code):\n    \n    lat_lng_coords = None\n\n    while(lat_lng_coords is None):\n\n        lat_lng_coords = geocoder.arcgis('{}, Mississauga, Ontario'.format(postal_code)).latlng\n    return lat_lng_coords"
        }, 
        {
            "execution_count": 16, 
            "cell_type": "code", 
            "metadata": {}, 
            "outputs": [], 
            "source": "postal_codes = pc_mississauga['Postalcode']    \ncoords = [get_latlng2(postal_code) for postal_code in postal_codes.tolist() ]"
        }, 
        {
            "execution_count": 17, 
            "cell_type": "code", 
            "metadata": {}, 
            "outputs": [], 
            "source": "df2 = pd.DataFrame(coords, columns=['Latitude', 'Longitude'])\npc_mississauga['Latitude'] = df2['Latitude']\npc_mississauga['Longitude'] = df2['Longitude']"
        }, 
        {
            "execution_count": 18, 
            "cell_type": "code", 
            "metadata": {}, 
            "outputs": [
                {
                    "execution_count": 18, 
                    "metadata": {}, 
                    "data": {
                        "text/html": "<div>\n<style scoped>\n    .dataframe tbody tr th:only-of-type {\n        vertical-align: middle;\n    }\n\n    .dataframe tbody tr th {\n        vertical-align: top;\n    }\n\n    .dataframe thead th {\n        text-align: right;\n    }\n</style>\n<table border=\"1\" class=\"dataframe\">\n  <thead>\n    <tr style=\"text-align: right;\">\n      <th></th>\n      <th>Postalcode</th>\n      <th>Borough</th>\n      <th>Neighbourhood</th>\n      <th>Latitude</th>\n      <th>Longitude</th>\n    </tr>\n  </thead>\n  <tbody>\n    <tr>\n      <th>0</th>\n      <td>L5A</td>\n      <td>Mississauga</td>\n      <td>Mississauga Valley, East Cooksville</td>\n      <td>43.588405</td>\n      <td>-79.609455</td>\n    </tr>\n    <tr>\n      <th>1</th>\n      <td>L5B</td>\n      <td>Mississauga</td>\n      <td>WestCooksville, Fairview,\u00a0City Centre, EastCre...</td>\n      <td>43.578945</td>\n      <td>-79.632699</td>\n    </tr>\n    <tr>\n      <th>2</th>\n      <td>L5C</td>\n      <td>Mississauga</td>\n      <td>WestCreditview, Mavis, Erindale</td>\n      <td>43.562932</td>\n      <td>-79.651714</td>\n    </tr>\n    <tr>\n      <th>3</th>\n      <td>L5E</td>\n      <td>Mississauga</td>\n      <td>Central Lakeview</td>\n      <td>43.583740</td>\n      <td>-79.562440</td>\n    </tr>\n    <tr>\n      <th>4</th>\n      <td>L5G</td>\n      <td>Mississauga</td>\n      <td>SWLakeview, Mineola, EastPort Credit</td>\n      <td>43.565560</td>\n      <td>-79.583091</td>\n    </tr>\n    <tr>\n      <th>5</th>\n      <td>L5H</td>\n      <td>Mississauga</td>\n      <td>West\u00a0Port Credit,\u00a0Lorne Park, EastSheridan</td>\n      <td>43.536630</td>\n      <td>-79.624784</td>\n    </tr>\n    <tr>\n      <th>6</th>\n      <td>L5J</td>\n      <td>Mississauga</td>\n      <td>Clarkson, Southdown</td>\n      <td>43.508105</td>\n      <td>-79.631731</td>\n    </tr>\n    <tr>\n      <th>7</th>\n      <td>L5K</td>\n      <td>Mississauga</td>\n      <td>West Sheridan</td>\n      <td>43.526160</td>\n      <td>-79.661823</td>\n    </tr>\n    <tr>\n      <th>8</th>\n      <td>L5L</td>\n      <td>Mississauga</td>\n      <td>Erin Mills, Western Business Park</td>\n      <td>43.535515</td>\n      <td>-79.692865</td>\n    </tr>\n    <tr>\n      <th>9</th>\n      <td>L5M</td>\n      <td>Mississauga</td>\n      <td>Churchill Meadows, Central Erin Mills, SouthSt...</td>\n      <td>43.560020</td>\n      <td>-79.720542</td>\n    </tr>\n    <tr>\n      <th>10</th>\n      <td>L5N</td>\n      <td>Mississauga</td>\n      <td>Lisgar, Meadowvale</td>\n      <td>43.594015</td>\n      <td>-79.760907</td>\n    </tr>\n    <tr>\n      <th>11</th>\n      <td>L5P</td>\n      <td>Mississauga</td>\n      <td>YYZ</td>\n      <td>43.676395</td>\n      <td>-79.606953</td>\n    </tr>\n    <tr>\n      <th>12</th>\n      <td>L5R</td>\n      <td>Mississauga</td>\n      <td>West Hurontario, SW\u00a0Gateway</td>\n      <td>43.609095</td>\n      <td>-79.673858</td>\n    </tr>\n    <tr>\n      <th>13</th>\n      <td>L5S</td>\n      <td>Mississauga</td>\n      <td>Cardiff, NEGateway</td>\n      <td>43.690223</td>\n      <td>-79.674380</td>\n    </tr>\n    <tr>\n      <th>14</th>\n      <td>L5T</td>\n      <td>Mississauga</td>\n      <td>Courtney Park, EastGateway</td>\n      <td>43.653360</td>\n      <td>-79.674023</td>\n    </tr>\n    <tr>\n      <th>15</th>\n      <td>L4T</td>\n      <td>Mississauga</td>\n      <td>Malton</td>\n      <td>43.713271</td>\n      <td>-79.645930</td>\n    </tr>\n    <tr>\n      <th>16</th>\n      <td>L4V</td>\n      <td>Mississauga</td>\n      <td>Wildwood</td>\n      <td>43.701945</td>\n      <td>-79.626428</td>\n    </tr>\n    <tr>\n      <th>17</th>\n      <td>L5V</td>\n      <td>Mississauga</td>\n      <td>East Credit</td>\n      <td>43.596230</td>\n      <td>-79.693235</td>\n    </tr>\n    <tr>\n      <th>18</th>\n      <td>L4W</td>\n      <td>Mississauga</td>\n      <td>Matheson, EastRathwood</td>\n      <td>43.649915</td>\n      <td>-79.629224</td>\n    </tr>\n    <tr>\n      <th>19</th>\n      <td>L5W</td>\n      <td>Mississauga</td>\n      <td>Meadowvale Village, WestGateway</td>\n      <td>43.631620</td>\n      <td>-79.710394</td>\n    </tr>\n    <tr>\n      <th>20</th>\n      <td>L4X</td>\n      <td>Mississauga</td>\n      <td>East\u00a0Applewood, East\u00a0Dixie, NELakeview</td>\n      <td>43.618700</td>\n      <td>-79.581912</td>\n    </tr>\n    <tr>\n      <th>21</th>\n      <td>L4Y</td>\n      <td>Mississauga</td>\n      <td>WestApplewood, West\u00a0Dixie, NWLakeview</td>\n      <td>43.603515</td>\n      <td>-79.593789</td>\n    </tr>\n    <tr>\n      <th>22</th>\n      <td>L4Z</td>\n      <td>Mississauga</td>\n      <td>West\u00a0Rathwood, East\u00a0Hurontario, SE\u00a0Gateway, Sa...</td>\n      <td>43.616070</td>\n      <td>-79.647595</td>\n    </tr>\n  </tbody>\n</table>\n</div>", 
                        "text/plain": "   Postalcode      Borough                                      Neighbourhood  \\\n0         L5A  Mississauga                Mississauga Valley, East Cooksville   \n1         L5B  Mississauga  WestCooksville, Fairview,\u00a0City Centre, EastCre...   \n2         L5C  Mississauga                    WestCreditview, Mavis, Erindale   \n3         L5E  Mississauga                                   Central Lakeview   \n4         L5G  Mississauga               SWLakeview, Mineola, EastPort Credit   \n5         L5H  Mississauga         West\u00a0Port Credit,\u00a0Lorne Park, EastSheridan   \n6         L5J  Mississauga                                Clarkson, Southdown   \n7         L5K  Mississauga                                      West Sheridan   \n8         L5L  Mississauga                  Erin Mills, Western Business Park   \n9         L5M  Mississauga  Churchill Meadows, Central Erin Mills, SouthSt...   \n10        L5N  Mississauga                                 Lisgar, Meadowvale   \n11        L5P  Mississauga                                                YYZ   \n12        L5R  Mississauga                        West Hurontario, SW\u00a0Gateway   \n13        L5S  Mississauga                                 Cardiff, NEGateway   \n14        L5T  Mississauga                         Courtney Park, EastGateway   \n15        L4T  Mississauga                                             Malton   \n16        L4V  Mississauga                                           Wildwood   \n17        L5V  Mississauga                                        East Credit   \n18        L4W  Mississauga                             Matheson, EastRathwood   \n19        L5W  Mississauga                    Meadowvale Village, WestGateway   \n20        L4X  Mississauga             East\u00a0Applewood, East\u00a0Dixie, NELakeview   \n21        L4Y  Mississauga              WestApplewood, West\u00a0Dixie, NWLakeview   \n22        L4Z  Mississauga  West\u00a0Rathwood, East\u00a0Hurontario, SE\u00a0Gateway, Sa...   \n\n     Latitude  Longitude  \n0   43.588405 -79.609455  \n1   43.578945 -79.632699  \n2   43.562932 -79.651714  \n3   43.583740 -79.562440  \n4   43.565560 -79.583091  \n5   43.536630 -79.624784  \n6   43.508105 -79.631731  \n7   43.526160 -79.661823  \n8   43.535515 -79.692865  \n9   43.560020 -79.720542  \n10  43.594015 -79.760907  \n11  43.676395 -79.606953  \n12  43.609095 -79.673858  \n13  43.690223 -79.674380  \n14  43.653360 -79.674023  \n15  43.713271 -79.645930  \n16  43.701945 -79.626428  \n17  43.596230 -79.693235  \n18  43.649915 -79.629224  \n19  43.631620 -79.710394  \n20  43.618700 -79.581912  \n21  43.603515 -79.593789  \n22  43.616070 -79.647595  "
                    }, 
                    "output_type": "execute_result"
                }
            ], 
            "source": "pc_mississauga"
        }, 
        {
            "source": "### 2.5 FourSquare API data exploring", 
            "cell_type": "markdown", 
            "metadata": {}
        }, 
        {
            "source": "The foursquare location data will be explored in the Methdology section in details later.", 
            "cell_type": "markdown", 
            "metadata": {}
        }, 
        {
            "source": "### 2.6 How the data will be used to solve the problem", 
            "cell_type": "markdown", 
            "metadata": {}
        }, 
        {
            "source": "The data will be used as follow: First, compare the demographical data (using 2016 CENSUS data for Markham and Mississauga) as well as the Crime data, provide analysis and determine which city would be the recommended city to choose to open the new branch. Then based on the city selected, using foursquare and geopy data to explore the venue among neighbors.  Finally based on the result from last step, recommend the area the company to rent and as the new site location.", 
            "cell_type": "markdown", 
            "metadata": {}
        }, 
        {
            "execution_count": null, 
            "cell_type": "code", 
            "metadata": {}, 
            "outputs": [], 
            "source": ""
        }
    ], 
    "metadata": {
        "kernelspec": {
            "display_name": "Python 3.6", 
            "name": "python3", 
            "language": "python"
        }, 
        "language_info": {
            "mimetype": "text/x-python", 
            "nbconvert_exporter": "python", 
            "version": "3.6.8", 
            "name": "python", 
            "file_extension": ".py", 
            "pygments_lexer": "ipython3", 
            "codemirror_mode": {
                "version": 3, 
                "name": "ipython"
            }
        }
    }, 
    "nbformat": 4
}